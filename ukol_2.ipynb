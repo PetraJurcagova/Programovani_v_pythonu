{
 "cells": [
  {
   "cell_type": "markdown",
   "metadata": {},
   "source": [
    "1.část úkolu:"
   ]
  },
  {
   "cell_type": "code",
   "execution_count": 1,
   "metadata": {},
   "outputs": [
    {
     "name": "stdout",
     "output_type": "stream",
     "text": [
      "Czechitas z.ú.\n",
      "Václavské náměstí 837/11, Nové Město, 11000 Praha 1\n"
     ]
    }
   ],
   "source": [
    "import requests\n",
    "\n",
    "ico = input(\"Zadejte IČO hledaného subjektu: \")\n",
    "response = requests.get(f\"https://ares.gov.cz/ekonomicke-subjekty-v-be/rest/ekonomicke-subjekty/{ico}\")\n",
    "\n",
    "# Získání adresy z vnoreneho slovniku 'sidlo'\n",
    "if response.status_code == 200:\n",
    "    data = response.json()\n",
    "    obchodni_jmeno = data.get(\"obchodniJmeno\", \"\")\n",
    "    sidlo = data.get(\"sidlo\", {})\n",
    "    adresa = sidlo.get(\"textovaAdresa\", \"\")  # Přístup k vnořenému klíči pro adresu\n",
    "        \n",
    "    print(obchodni_jmeno)\n",
    "    print(adresa)\n",
    "else:\n",
    "    print(\"Nepodařilo se získat informace o hledaném subjektu.\")"
   ]
  },
  {
   "cell_type": "markdown",
   "metadata": {},
   "source": [
    "2 část úkolu:"
   ]
  },
  {
   "cell_type": "code",
   "execution_count": 2,
   "metadata": {},
   "outputs": [
    {
     "name": "stdout",
     "output_type": "stream",
     "text": [
      "Nalezeno subjektů: 14\n",
      "FIO - KOMORA H+S, org. složka obč. sdružení, \n",
      "Ing. Otokár Fió, 03709256\n",
      "Fio investiční společnost, a.s., 06704441\n",
      "Fio realitní fond SICAV, a.s., 14052628\n",
      "Fio Consulting, spol. s r.o., 25740334\n",
      "Finanční skupina Fio, a.s., 26761858\n",
      "FIO, 27021858\n",
      "Fio forexová, s.r.o., 27589587\n",
      "Fio holding, a.s., 60192763\n",
      "Fio banka, a.s., 61858374\n",
      "Fio leasing, a.s., 61860841\n",
      "Fio fond domácího trhu - otevřený podílový fond, 75161095\n",
      "Fio globální akciový fond - otevřený podílový fond, 75161109\n",
      "Fio realitní podfond I., 75162946\n"
     ]
    }
   ],
   "source": [
    "\n",
    "nazev_subjektu = input(\"Zadejte název hledaného subjektu: \")\n",
    "\n",
    "headers = {\n",
    "    \"accept\": \"application/json\",\n",
    "    \"Content-Type\": \"application/json\",\n",
    "}\n",
    "\n",
    "data = f'{{\"obchodniJmeno\": \"{nazev_subjektu}\"}}'\n",
    "\n",
    "response = requests.post(\"https://ares.gov.cz/ekonomicke-subjekty-v-be/rest/ekonomicke-subjekty/vyhledat\", headers=headers, data=data)\n",
    "\n",
    "if response.status_code == 200:\n",
    "    data = response.json()\n",
    "    \n",
    "    pocet_nalezenych_subjektu = data.get(\"pocetCelkem\")\n",
    "    nalezeni_subjekti = data.get(\"ekonomickeSubjekty\", [])\n",
    "    \n",
    "    print(f\"Nalezeno subjektů: {pocet_nalezenych_subjektu}\")\n",
    "    for subjekt in nalezeni_subjekti:\n",
    "        obchodni_jmeno = subjekt.get(\"obchodniJmeno\", \"\")\n",
    "        ico = subjekt.get(\"ico\", \"\")\n",
    "        print(f\"{obchodni_jmeno}, {ico}\")\n",
    "else:\n",
    "    print(\"Nepodařilo se získat informace o hledaných subjektech.\")"
   ]
  }
 ],
 "metadata": {
  "kernelspec": {
   "display_name": "Python 3",
   "language": "python",
   "name": "python3"
  },
  "language_info": {
   "codemirror_mode": {
    "name": "ipython",
    "version": 3
   },
   "file_extension": ".py",
   "mimetype": "text/x-python",
   "name": "python",
   "nbconvert_exporter": "python",
   "pygments_lexer": "ipython3",
   "version": "3.11.3"
  }
 },
 "nbformat": 4,
 "nbformat_minor": 2
}
