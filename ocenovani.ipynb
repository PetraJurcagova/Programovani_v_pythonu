{
 "cells": [
  {
   "cell_type": "code",
   "execution_count": 64,
   "metadata": {},
   "outputs": [],
   "source": [
    "import math\n",
    "\n",
    "# Tvým úkolem je vytvořit aplikaci pro zjednodušený výpočet daně z nemovitostí, která bude postavená na principech OOP. Tato daň se vztahuje na pozemky, bytové a komerční prostory. Výše daně se odvíjí od několika faktorů, např. typu nemovitosti, velikosti, lokalitě, kde se nemovitost nachází atd.\n"
   ]
  },
  {
   "cell_type": "code",
   "execution_count": 65,
   "metadata": {},
   "outputs": [],
   "source": [
    "# V rámci aplikace nejprve vytvoř třídu Locality, která označuje lokalitu, kde se nemovitost nachází. Třída bude mít atributy name (název katastru/obce) a coefficient (koeficient, který se používá k výpočtu daně).\n",
    "\n",
    "class Locality:\n",
    "    def __init__(self,name,coefficient):\n",
    "        self.name = name\n",
    "        self.coefficient = coefficient"
   ]
  },
  {
   "cell_type": "code",
   "execution_count": 66,
   "metadata": {},
   "outputs": [],
   "source": [
    "# Vytvoř třídu Property, která bude reprezentovat nějakou nemovitost. Třída bude mít atribut locality (lokalita, kde se pozemek nachází, bude to objekt třídy Locality).\n",
    "\n",
    "class Property:\n",
    "    def __init__(self, locality):\n",
    "        self.locality = locality"
   ]
  },
  {
   "cell_type": "code",
   "execution_count": 67,
   "metadata": {},
   "outputs": [],
   "source": [
    "# Dále vytvoř třídu Estate, která reprezentuje pozemek a je potomkem třídy Property. Třída bude mít atributy locality, estate_type (typ pozemku), area (plocha pozemku v metrech čtverečních). Dále přidej metodu calculate_tax(), která spočítá výši daně pro pozemek a vrátí hodnotu jako celé číslo (pro zaokrouhlení použij funkci ceil z modulu math). Daň vypočítej pomocí vzorce: plocha pozemku * koeficient dle typu pozemku (atribut estyte_type) * koeficient obce. U atributu estate_type následující hodnoty a koeficienty:\n",
    "\n",
    "# land (zemědělský pozemek) má koeficient 0.85.\n",
    "# building site (stavební pozemek) má koeficient 9.\n",
    "# forrest (les) má koeficient 0.35.\n",
    "\n",
    "class Estate (Property):\n",
    "   def __init__(self, locality, estate_type, area):\n",
    "      super().__init__(locality)\n",
    "      self.estate_type = estate_type\n",
    "      self.area = area\n",
    "    \n",
    "   def calculate_tax(self):\n",
    "    coefficient = 0\n",
    "    \n",
    "    if self.estate_type == \"land\":\n",
    "        coefficient = 0.85\n",
    "    elif self.estate_type == \"building site\":\n",
    "        coefficient = 9\n",
    "    elif self. estate_type == \"forrest\":\n",
    "        coefficient = 0.35\n",
    "    else:\n",
    "        \"Neznámá hodnota.\"\n",
    "        \n",
    "    return math.ceil(self.area * coefficient * self.locality.coefficient)\n",
    "    "
   ]
  },
  {
   "cell_type": "code",
   "execution_count": 68,
   "metadata": {},
   "outputs": [],
   "source": [
    "# Jako druhou vytvoř třídu Residence, která reprezentuje byt, dům či jinou budovu a je potomkem třídy Property. Třída bude mít atributy locality, area (podlahová plocha bytu nebo domu) a commercial (pravdivostní hodnota, která určuje, zda se jedná o nemovitost používanou k podnikání). Dále přidej metodu calculate_tax(), která spočítá výši daně pro byt a vrátí hodnotu jako číslo. Daň vypočítej pomocí vzorce: podlahová plocha * koeficient lokality * 15. Pokud je hodnota parametru commercial True, tj. pokud jde o komerční nemovitost, vynásob celou daň číslem 2.\n",
    "\n",
    "class Residence(Property):\n",
    "    def __init__(self,locality, area, commercial= False):\n",
    "        super().__init__(locality)\n",
    "        self.area = area\n",
    "        self.commercial = commercial\n",
    "    \n",
    "    def calculate_tax(self):\n",
    "        tax = self.area * self.locality.coefficient * 15\n",
    "        if self.commercial == True:\n",
    "            tax = tax * 2\n",
    "        return math.ceil(tax)"
   ]
  },
  {
   "cell_type": "code",
   "execution_count": 69,
   "metadata": {},
   "outputs": [
    {
     "name": "stdout",
     "output_type": "stream",
     "text": [
      "Daň z tohoto zemědělského pozemku je 612 Kč.\n"
     ]
    }
   ],
   "source": [
    "# Vyzkoušej svůj program pomocí následujících nemovitostí:\n",
    "\n",
    "# Zemědělský pozemek o ploše 900 metrů čtverečních v lokalitě Manětín s koeficientem 0.8. Daň z této nemovitosti je 900 * 0.85 * 0.8 = 612.\n",
    "locality_M = Locality(\"Manětín\", 0.8)\n",
    "estate_1 = Estate(locality_M,\"land\", 900)\n",
    "print(f\"Daň z tohoto zemědělského pozemku je {estate_1.calculate_tax()} Kč.\")\n"
   ]
  },
  {
   "cell_type": "code",
   "execution_count": 70,
   "metadata": {},
   "outputs": [
    {
     "name": "stdout",
     "output_type": "stream",
     "text": [
      "Daň z nemovitosti činí 1440 Kč.\n"
     ]
    }
   ],
   "source": [
    "\n",
    "# Dům s podlahovou plochou 120 metrů čtverečních v lokalitě Manětín s koeficientem 0.8. Daň z této nemovitosti je 120 * 0.8 * 15 = 1440.\n",
    "locality_M = Locality(\"Manětín\", 0.8)\n",
    "house_1 = Residence(locality_M, 120, False )\n",
    "print(f\"Daň z nemovitosti činí {house_1.calculate_tax()} Kč.\")\n"
   ]
  },
  {
   "cell_type": "code",
   "execution_count": 71,
   "metadata": {},
   "outputs": [
    {
     "name": "stdout",
     "output_type": "stream",
     "text": [
      "Daň ze zadané nemovitosti bude 8100 Kč.\n"
     ]
    }
   ],
   "source": [
    "# Kancelář (tj. komerční nemovitost) s podlahovou plochou 90 metrů čtverečních v lokalitě Brno s koeficientem 3. Daň z této nemovitosti je 90 * 3 * 15 * 2 = 8100.\n",
    "locality_B = Locality(\"Brno\", 3)\n",
    "estate_2= Residence(locality_B, 90, True)\n",
    "print(f\"Daň ze zadané nemovitosti bude {estate_2.calculate_tax()} Kč.\")"
   ]
  },
  {
   "cell_type": "code",
   "execution_count": 72,
   "metadata": {},
   "outputs": [
    {
     "name": "stdout",
     "output_type": "stream",
     "text": [
      "zemědělský pozemek, Lokalita Manětín (koeficient 0.8), rozloha 900 metrů2\n",
      "stavební pozemek, Lokalita Manětín (koeficient 0.8), rozloha 120 metrů2\n",
      "Za Komerční nemovitost, Lokalita Brno (koeficient 3), 90 metrů2, bude vyměřena daň ve výší 8100 Kč.\n"
     ]
    }
   ],
   "source": [
    "# Bonus\n",
    "# Ke třídě Estate a Residence přidej výpisy informací do metody __str()__. Např.: Zemědělský pozemek, lokalita Manětín (koeficient 1), 900 metrů čtverečních, daň 765 Kč.\n",
    "\n",
    "class Locality:\n",
    "    def __init__(self,name,coefficient):\n",
    "        self.name = name\n",
    "        self.coefficient = coefficient\n",
    "\n",
    "    def __str__(self):\n",
    "       return f\"Lokalita {self.name} (koeficient {self.coefficient})\"\n",
    "    \n",
    "class Property:\n",
    "    def __init__(self, locality):\n",
    "        self.locality = locality\n",
    "\n",
    "class Estate (Property):\n",
    "   def __init__(self, locality, estate_type, area):\n",
    "      super().__init__(locality)\n",
    "      self.estate_type = estate_type\n",
    "      self.area = area\n",
    "      \n",
    "   def __str__(self):\n",
    "    return f\"{self.estate_type}, {self.locality}, rozloha {self.area} metrů2\"\n",
    "    \n",
    "   def calculate_tax(self):\n",
    "    coefficient = 0\n",
    "    \n",
    "    if self.estate_type == \"zemědělský pozemek\":\n",
    "        coefficient = 0.85\n",
    "    elif self.estate_type == \"stavební pozemek\":\n",
    "        coefficient = 9\n",
    "    elif self. estate_type == \"lesní pozemek\":\n",
    "        coefficient = 0.35\n",
    "    else:\n",
    "        \"Neznámá hodnota.\"\n",
    "        \n",
    "    return math.ceil(self.area * coefficient * self.locality.coefficient)\n",
    "   \n",
    "class Residence(Property):\n",
    "    def __init__(self,locality, area, commercial= False):\n",
    "        super().__init__(locality)\n",
    "        self.area = area\n",
    "        self.commercial = commercial\n",
    "    \n",
    "    def __str__(self): \n",
    "       if self.commercial:\n",
    "          property_type = \"Komerční nemovitost\"\n",
    "       elif self.commercial: \n",
    "          property_type = \"Nemovitost pro bydlení\"\n",
    "       return f\"Za {property_type}, {self.locality}, {self.area} metrů2, bude vyměřena daň ve výší {self.calculate_tax()} Kč.\"\n",
    "    \n",
    "    def calculate_tax(self):\n",
    "        tax = self.area * self.locality.coefficient * 15\n",
    "        if self.commercial == True:\n",
    "            tax = tax * 2\n",
    "        return math.ceil(tax)   \n",
    "    \n",
    "locality_M = Locality(\"Manětín\", 0.8)\n",
    "locality_B = Locality(\"Brno\", 3)\n",
    "\n",
    "estate_1 = Estate(locality_M, \"zemědělský pozemek\", 900)\n",
    "estate_2 = Estate(locality_M, \"stavební pozemek\", 120)\n",
    "residence_1 = Residence(locality_B, 90, commercial=True)\n",
    "\n",
    "print(estate_1)\n",
    "print(estate_2)\n",
    "print(residence_1)"
   ]
  }
 ],
 "metadata": {
  "kernelspec": {
   "display_name": "Python 3",
   "language": "python",
   "name": "python3"
  },
  "language_info": {
   "codemirror_mode": {
    "name": "ipython",
    "version": 3
   },
   "file_extension": ".py",
   "mimetype": "text/x-python",
   "name": "python",
   "nbconvert_exporter": "python",
   "pygments_lexer": "ipython3",
   "version": "3.11.3"
  }
 },
 "nbformat": 4,
 "nbformat_minor": 2
}
